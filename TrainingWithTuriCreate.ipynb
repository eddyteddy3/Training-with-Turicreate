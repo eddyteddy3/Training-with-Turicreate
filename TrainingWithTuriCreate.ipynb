{
 "cells": [
  {
   "cell_type": "code",
   "execution_count": 1,
   "metadata": {},
   "outputs": [],
   "source": [
    "import os\n",
    "import turicreate as tc\n",
    "import matplotlib.pyplot as plt\n",
    "import seaborn as sns\n",
    "import numpy as np"
   ]
  },
  {
   "cell_type": "code",
   "execution_count": 2,
   "metadata": {},
   "outputs": [
    {
     "data": {
      "text/plain": [
       "4838"
      ]
     },
     "execution_count": 2,
     "metadata": {},
     "output_type": "execute_result"
    }
   ],
   "source": [
    "train_data = tc.image_analysis.load_images(\"dataset/train/\", with_path=True)\n",
    "len(train_data)"
   ]
  },
  {
   "cell_type": "code",
   "execution_count": 3,
   "metadata": {},
   "outputs": [
    {
     "data": {
      "text/plain": [
       "\n",
       "+------------------+-------+----------+\n",
       "|       item       | value | is exact |\n",
       "+------------------+-------+----------+\n",
       "|      Length      |  4838 |   Yes    |\n",
       "| # Missing Values |   0   |   Yes    |\n",
       "| # unique values  |   20  |    No    |\n",
       "+------------------+-------+----------+\n",
       "\n",
       "Most frequent items:\n",
       "+-----------+-------+\n",
       "|   value   | count |\n",
       "+-----------+-------+\n",
       "| pineapple |  260  |\n",
       "|   apple   |  250  |\n",
       "|   banana  |  250  |\n",
       "|  doughnut |  250  |\n",
       "|   grape   |  250  |\n",
       "|  hot dog  |  250  |\n",
       "| ice cream |  250  |\n",
       "|   juice   |  250  |\n",
       "|   muffin  |  250  |\n",
       "|   salad   |  250  |\n",
       "+-----------+-------+\n"
      ]
     },
     "execution_count": 3,
     "metadata": {},
     "output_type": "execute_result"
    }
   ],
   "source": [
    "train_data[\"label\"] = train_data[\"path\"].apply(lambda path: os.path.basename(os.path.split(path)[0]))\n",
    "train_data[\"label\"].summary()"
   ]
  },
  {
   "cell_type": "code",
   "execution_count": 4,
   "metadata": {},
   "outputs": [
    {
     "data": {
      "text/html": [
       "<pre>Downloading base mlmodel</pre>"
      ],
      "text/plain": [
       "Downloading base mlmodel"
      ]
     },
     "metadata": {},
     "output_type": "display_data"
    },
    {
     "data": {
      "text/html": [
       "<pre>Downloading https://docs-assets.developer.apple.com/coreml/models/SqueezeNet.mlmodel to /var/folders/23/w8ptst2n34x31dn4bt2sx53h0000gn/T/model_cache/squeezenet_v1.1.mlmodel</pre>"
      ],
      "text/plain": [
       "Downloading https://docs-assets.developer.apple.com/coreml/models/SqueezeNet.mlmodel to /var/folders/23/w8ptst2n34x31dn4bt2sx53h0000gn/T/model_cache/squeezenet_v1.1.mlmodel"
      ]
     },
     "metadata": {},
     "output_type": "display_data"
    },
    {
     "data": {
      "text/html": [
       "<pre>Analyzing and extracting image features.</pre>"
      ],
      "text/plain": [
       "Analyzing and extracting image features."
      ]
     },
     "metadata": {},
     "output_type": "display_data"
    },
    {
     "data": {
      "text/html": [
       "<pre>+------------------+--------------+------------------+</pre>"
      ],
      "text/plain": [
       "+------------------+--------------+------------------+"
      ]
     },
     "metadata": {},
     "output_type": "display_data"
    },
    {
     "data": {
      "text/html": [
       "<pre>| Images Processed | Elapsed Time | Percent Complete |</pre>"
      ],
      "text/plain": [
       "| Images Processed | Elapsed Time | Percent Complete |"
      ]
     },
     "metadata": {},
     "output_type": "display_data"
    },
    {
     "data": {
      "text/html": [
       "<pre>+------------------+--------------+------------------+</pre>"
      ],
      "text/plain": [
       "+------------------+--------------+------------------+"
      ]
     },
     "metadata": {},
     "output_type": "display_data"
    },
    {
     "data": {
      "text/html": [
       "<pre>| 64               | 688.922ms    | 1.25%            |</pre>"
      ],
      "text/plain": [
       "| 64               | 688.922ms    | 1.25%            |"
      ]
     },
     "metadata": {},
     "output_type": "display_data"
    },
    {
     "data": {
      "text/html": [
       "<pre>| 128              | 848.622ms    | 2.5%             |</pre>"
      ],
      "text/plain": [
       "| 128              | 848.622ms    | 2.5%             |"
      ]
     },
     "metadata": {},
     "output_type": "display_data"
    },
    {
     "data": {
      "text/html": [
       "<pre>| 192              | 1.01s        | 3.75%            |</pre>"
      ],
      "text/plain": [
       "| 192              | 1.01s        | 3.75%            |"
      ]
     },
     "metadata": {},
     "output_type": "display_data"
    },
    {
     "data": {
      "text/html": [
       "<pre>| 256              | 1.18s        | 5.25%            |</pre>"
      ],
      "text/plain": [
       "| 256              | 1.18s        | 5.25%            |"
      ]
     },
     "metadata": {},
     "output_type": "display_data"
    },
    {
     "data": {
      "text/html": [
       "<pre>| 320              | 1.34s        | 6.5%             |</pre>"
      ],
      "text/plain": [
       "| 320              | 1.34s        | 6.5%             |"
      ]
     },
     "metadata": {},
     "output_type": "display_data"
    },
    {
     "data": {
      "text/html": [
       "<pre>| 640              | 2.17s        | 13%              |</pre>"
      ],
      "text/plain": [
       "| 640              | 2.17s        | 13%              |"
      ]
     },
     "metadata": {},
     "output_type": "display_data"
    },
    {
     "data": {
      "text/html": [
       "<pre>| 1600             | 4.67s        | 32.75%           |</pre>"
      ],
      "text/plain": [
       "| 1600             | 4.67s        | 32.75%           |"
      ]
     },
     "metadata": {},
     "output_type": "display_data"
    },
    {
     "data": {
      "text/html": [
       "<pre>| 3200             | 8.82s        | 65.75%           |</pre>"
      ],
      "text/plain": [
       "| 3200             | 8.82s        | 65.75%           |"
      ]
     },
     "metadata": {},
     "output_type": "display_data"
    },
    {
     "data": {
      "text/html": [
       "<pre>| 4800             | 12.97s       | 98.5%            |</pre>"
      ],
      "text/plain": [
       "| 4800             | 12.97s       | 98.5%            |"
      ]
     },
     "metadata": {},
     "output_type": "display_data"
    },
    {
     "data": {
      "text/html": [
       "<pre>| 4838             | 13.14s       | 100%             |</pre>"
      ],
      "text/plain": [
       "| 4838             | 13.14s       | 100%             |"
      ]
     },
     "metadata": {},
     "output_type": "display_data"
    },
    {
     "data": {
      "text/html": [
       "<pre>+------------------+--------------+------------------+</pre>"
      ],
      "text/plain": [
       "+------------------+--------------+------------------+"
      ]
     },
     "metadata": {},
     "output_type": "display_data"
    },
    {
     "name": "stdout",
     "output_type": "stream",
     "text": [
      "PROGRESS: Creating a validation set from 5 percent of training data. This may take a while.\n",
      "          You can set ``validation_set=None`` to disable validation tracking.\n",
      "\n"
     ]
    },
    {
     "data": {
      "text/html": [
       "<pre>Logistic regression:</pre>"
      ],
      "text/plain": [
       "Logistic regression:"
      ]
     },
     "metadata": {},
     "output_type": "display_data"
    },
    {
     "data": {
      "text/html": [
       "<pre>--------------------------------------------------------</pre>"
      ],
      "text/plain": [
       "--------------------------------------------------------"
      ]
     },
     "metadata": {},
     "output_type": "display_data"
    },
    {
     "data": {
      "text/html": [
       "<pre>Number of examples          : 4596</pre>"
      ],
      "text/plain": [
       "Number of examples          : 4596"
      ]
     },
     "metadata": {},
     "output_type": "display_data"
    },
    {
     "data": {
      "text/html": [
       "<pre>Number of classes           : 20</pre>"
      ],
      "text/plain": [
       "Number of classes           : 20"
      ]
     },
     "metadata": {},
     "output_type": "display_data"
    },
    {
     "data": {
      "text/html": [
       "<pre>Number of feature columns   : 1</pre>"
      ],
      "text/plain": [
       "Number of feature columns   : 1"
      ]
     },
     "metadata": {},
     "output_type": "display_data"
    },
    {
     "data": {
      "text/html": [
       "<pre>Number of unpacked features : 1000</pre>"
      ],
      "text/plain": [
       "Number of unpacked features : 1000"
      ]
     },
     "metadata": {},
     "output_type": "display_data"
    },
    {
     "data": {
      "text/html": [
       "<pre>Number of coefficients      : 19019</pre>"
      ],
      "text/plain": [
       "Number of coefficients      : 19019"
      ]
     },
     "metadata": {},
     "output_type": "display_data"
    },
    {
     "data": {
      "text/html": [
       "<pre>Starting L-BFGS</pre>"
      ],
      "text/plain": [
       "Starting L-BFGS"
      ]
     },
     "metadata": {},
     "output_type": "display_data"
    },
    {
     "data": {
      "text/html": [
       "<pre>--------------------------------------------------------</pre>"
      ],
      "text/plain": [
       "--------------------------------------------------------"
      ]
     },
     "metadata": {},
     "output_type": "display_data"
    },
    {
     "data": {
      "text/html": [
       "<pre>+-----------+----------+-----------+--------------+-------------------+---------------------+</pre>"
      ],
      "text/plain": [
       "+-----------+----------+-----------+--------------+-------------------+---------------------+"
      ]
     },
     "metadata": {},
     "output_type": "display_data"
    },
    {
     "data": {
      "text/html": [
       "<pre>| Iteration | Passes   | Step size | Elapsed Time | Training Accuracy | Validation Accuracy |</pre>"
      ],
      "text/plain": [
       "| Iteration | Passes   | Step size | Elapsed Time | Training Accuracy | Validation Accuracy |"
      ]
     },
     "metadata": {},
     "output_type": "display_data"
    },
    {
     "data": {
      "text/html": [
       "<pre>+-----------+----------+-----------+--------------+-------------------+---------------------+</pre>"
      ],
      "text/plain": [
       "+-----------+----------+-----------+--------------+-------------------+---------------------+"
      ]
     },
     "metadata": {},
     "output_type": "display_data"
    },
    {
     "data": {
      "text/html": [
       "<pre>| 0         | 4        | 0.250000  | 0.473856     | 0.073977          | 0.053719            |</pre>"
      ],
      "text/plain": [
       "| 0         | 4        | 0.250000  | 0.473856     | 0.073977          | 0.053719            |"
      ]
     },
     "metadata": {},
     "output_type": "display_data"
    },
    {
     "data": {
      "text/html": [
       "<pre>| 1         | 7        | 1.250000  | 0.955143     | 0.282202          | 0.210744            |</pre>"
      ],
      "text/plain": [
       "| 1         | 7        | 1.250000  | 0.955143     | 0.282202          | 0.210744            |"
      ]
     },
     "metadata": {},
     "output_type": "display_data"
    },
    {
     "data": {
      "text/html": [
       "<pre>| 2         | 8        | 1.250000  | 1.266446     | 0.141210          | 0.152893            |</pre>"
      ],
      "text/plain": [
       "| 2         | 8        | 1.250000  | 1.266446     | 0.141210          | 0.152893            |"
      ]
     },
     "metadata": {},
     "output_type": "display_data"
    },
    {
     "data": {
      "text/html": [
       "<pre>| 3         | 9        | 1.250000  | 1.499317     | 0.263490          | 0.247934            |</pre>"
      ],
      "text/plain": [
       "| 3         | 9        | 1.250000  | 1.499317     | 0.263490          | 0.247934            |"
      ]
     },
     "metadata": {},
     "output_type": "display_data"
    },
    {
     "data": {
      "text/html": [
       "<pre>| 4         | 10       | 1.250000  | 1.745904     | 0.255004          | 0.173554            |</pre>"
      ],
      "text/plain": [
       "| 4         | 10       | 1.250000  | 1.745904     | 0.255004          | 0.173554            |"
      ]
     },
     "metadata": {},
     "output_type": "display_data"
    },
    {
     "data": {
      "text/html": [
       "<pre>| 9         | 16       | 1.000000  | 3.205621     | 0.445605          | 0.392562            |</pre>"
      ],
      "text/plain": [
       "| 9         | 16       | 1.000000  | 3.205621     | 0.445605          | 0.392562            |"
      ]
     },
     "metadata": {},
     "output_type": "display_data"
    },
    {
     "data": {
      "text/html": [
       "<pre>| 19        | 37       | 0.797751  | 6.554455     | 0.573325          | 0.541322            |</pre>"
      ],
      "text/plain": [
       "| 19        | 37       | 0.797751  | 6.554455     | 0.573325          | 0.541322            |"
      ]
     },
     "metadata": {},
     "output_type": "display_data"
    },
    {
     "data": {
      "text/html": [
       "<pre>| 29        | 51       | 1.000000  | 9.465817     | 0.617058          | 0.578512            |</pre>"
      ],
      "text/plain": [
       "| 29        | 51       | 1.000000  | 9.465817     | 0.617058          | 0.578512            |"
      ]
     },
     "metadata": {},
     "output_type": "display_data"
    },
    {
     "data": {
      "text/html": [
       "<pre>| 39        | 68       | 0.601980  | 12.516212    | 0.660357          | 0.615702            |</pre>"
      ],
      "text/plain": [
       "| 39        | 68       | 0.601980  | 12.516212    | 0.660357          | 0.615702            |"
      ]
     },
     "metadata": {},
     "output_type": "display_data"
    },
    {
     "data": {
      "text/html": [
       "<pre>| 49        | 85       | 1.000000  | 15.665837    | 0.688860          | 0.661157            |</pre>"
      ],
      "text/plain": [
       "| 49        | 85       | 1.000000  | 15.665837    | 0.688860          | 0.661157            |"
      ]
     },
     "metadata": {},
     "output_type": "display_data"
    },
    {
     "data": {
      "text/html": [
       "<pre>| 59        | 110      | 5.966500  | 19.596515    | 0.719539          | 0.665289            |</pre>"
      ],
      "text/plain": [
       "| 59        | 110      | 5.966500  | 19.596515    | 0.719539          | 0.665289            |"
      ]
     },
     "metadata": {},
     "output_type": "display_data"
    },
    {
     "data": {
      "text/html": [
       "<pre>| 69        | 128      | 0.440247  | 22.682773    | 0.744125          | 0.681818            |</pre>"
      ],
      "text/plain": [
       "| 69        | 128      | 0.440247  | 22.682773    | 0.744125          | 0.681818            |"
      ]
     },
     "metadata": {},
     "output_type": "display_data"
    },
    {
     "data": {
      "text/html": [
       "<pre>| 79        | 146      | 0.387410  | 25.792354    | 0.756963          | 0.681818            |</pre>"
      ],
      "text/plain": [
       "| 79        | 146      | 0.387410  | 25.792354    | 0.756963          | 0.681818            |"
      ]
     },
     "metadata": {},
     "output_type": "display_data"
    },
    {
     "data": {
      "text/html": [
       "<pre>| 89        | 158      | 1.000000  | 28.431057    | 0.773716          | 0.673554            |</pre>"
      ],
      "text/plain": [
       "| 89        | 158      | 1.000000  | 28.431057    | 0.773716          | 0.673554            |"
      ]
     },
     "metadata": {},
     "output_type": "display_data"
    },
    {
     "data": {
      "text/html": [
       "<pre>| 99        | 169      | 0.905588  | 30.957408    | 0.787424          | 0.685950            |</pre>"
      ],
      "text/plain": [
       "| 99        | 169      | 0.905588  | 30.957408    | 0.787424          | 0.685950            |"
      ]
     },
     "metadata": {},
     "output_type": "display_data"
    },
    {
     "data": {
      "text/html": [
       "<pre>| 109       | 181      | 1.000000  | 33.583953    | 0.797868          | 0.690083            |</pre>"
      ],
      "text/plain": [
       "| 109       | 181      | 1.000000  | 33.583953    | 0.797868          | 0.690083            |"
      ]
     },
     "metadata": {},
     "output_type": "display_data"
    },
    {
     "data": {
      "text/html": [
       "<pre>| 119       | 194      | 1.000000  | 36.192418    | 0.822672          | 0.661157            |</pre>"
      ],
      "text/plain": [
       "| 119       | 194      | 1.000000  | 36.192418    | 0.822672          | 0.661157            |"
      ]
     },
     "metadata": {},
     "output_type": "display_data"
    },
    {
     "data": {
      "text/html": [
       "<pre>| 129       | 207      | 1.000000  | 38.764078    | 0.837903          | 0.648760            |</pre>"
      ],
      "text/plain": [
       "| 129       | 207      | 1.000000  | 38.764078    | 0.837903          | 0.648760            |"
      ]
     },
     "metadata": {},
     "output_type": "display_data"
    },
    {
     "data": {
      "text/html": [
       "<pre>| 139       | 220      | 0.953388  | 41.381134    | 0.852263          | 0.652893            |</pre>"
      ],
      "text/plain": [
       "| 139       | 220      | 0.953388  | 41.381134    | 0.852263          | 0.652893            |"
      ]
     },
     "metadata": {},
     "output_type": "display_data"
    },
    {
     "data": {
      "text/html": [
       "<pre>| 149       | 231      | 1.000000  | 43.919021    | 0.866623          | 0.652893            |</pre>"
      ],
      "text/plain": [
       "| 149       | 231      | 1.000000  | 43.919021    | 0.866623          | 0.652893            |"
      ]
     },
     "metadata": {},
     "output_type": "display_data"
    },
    {
     "data": {
      "text/html": [
       "<pre>| 159       | 243      | 1.000000  | 46.725640    | 0.877502          | 0.669421            |</pre>"
      ],
      "text/plain": [
       "| 159       | 243      | 1.000000  | 46.725640    | 0.877502          | 0.669421            |"
      ]
     },
     "metadata": {},
     "output_type": "display_data"
    },
    {
     "data": {
      "text/html": [
       "<pre>+-----------+----------+-----------+--------------+-------------------+---------------------+</pre>"
      ],
      "text/plain": [
       "+-----------+----------+-----------+--------------+-------------------+---------------------+"
      ]
     },
     "metadata": {},
     "output_type": "display_data"
    }
   ],
   "source": [
    "model = tc.image_classifier.create(train_data, target=\"label\", model=\"squeezenet_v1.1\", verbose=True, max_iterations=160)"
   ]
  },
  {
   "cell_type": "code",
   "execution_count": 5,
   "metadata": {},
   "outputs": [
    {
     "data": {
      "text/plain": [
       "952"
      ]
     },
     "execution_count": 5,
     "metadata": {},
     "output_type": "execute_result"
    }
   ],
   "source": [
    "test_data = tc.image_analysis.load_images(\"dataset/test/\", with_path=True)\n",
    "len(test_data)"
   ]
  },
  {
   "cell_type": "code",
   "execution_count": 7,
   "metadata": {},
   "outputs": [
    {
     "data": {
      "text/plain": [
       "\n",
       "+------------------+-------+----------+\n",
       "|       item       | value | is exact |\n",
       "+------------------+-------+----------+\n",
       "|      Length      |  952  |   Yes    |\n",
       "| # Missing Values |   0   |   Yes    |\n",
       "| # unique values  |   20  |    No    |\n",
       "+------------------+-------+----------+\n",
       "\n",
       "Most frequent items:\n",
       "+-----------+-------+\n",
       "|   value   | count |\n",
       "+-----------+-------+\n",
       "|   apple   |   50  |\n",
       "|   banana  |   50  |\n",
       "|    cake   |   50  |\n",
       "|   candy   |   50  |\n",
       "|   carrot  |   50  |\n",
       "|   cookie  |   50  |\n",
       "|  doughnut |   50  |\n",
       "|   grape   |   50  |\n",
       "|  hot dog  |   50  |\n",
       "| ice cream |   50  |\n",
       "+-----------+-------+\n"
      ]
     },
     "execution_count": 7,
     "metadata": {},
     "output_type": "execute_result"
    }
   ],
   "source": [
    "test_data[\"label\"] = test_data[\"path\"].apply(lambda path: os.path.basename(os.path.split(path)[0]))\n",
    "test_data[\"label\"].summary()"
   ]
  },
  {
   "cell_type": "code",
   "execution_count": 8,
   "metadata": {},
   "outputs": [
    {
     "data": {
      "text/html": [
       "<pre>Analyzing and extracting image features.</pre>"
      ],
      "text/plain": [
       "Analyzing and extracting image features."
      ]
     },
     "metadata": {},
     "output_type": "display_data"
    },
    {
     "data": {
      "text/html": [
       "<pre>+------------------+--------------+------------------+</pre>"
      ],
      "text/plain": [
       "+------------------+--------------+------------------+"
      ]
     },
     "metadata": {},
     "output_type": "display_data"
    },
    {
     "data": {
      "text/html": [
       "<pre>| Images Processed | Elapsed Time | Percent Complete |</pre>"
      ],
      "text/plain": [
       "| Images Processed | Elapsed Time | Percent Complete |"
      ]
     },
     "metadata": {},
     "output_type": "display_data"
    },
    {
     "data": {
      "text/html": [
       "<pre>+------------------+--------------+------------------+</pre>"
      ],
      "text/plain": [
       "+------------------+--------------+------------------+"
      ]
     },
     "metadata": {},
     "output_type": "display_data"
    },
    {
     "data": {
      "text/html": [
       "<pre>| 64               | 583.008ms    | 6.5%             |</pre>"
      ],
      "text/plain": [
       "| 64               | 583.008ms    | 6.5%             |"
      ]
     },
     "metadata": {},
     "output_type": "display_data"
    },
    {
     "data": {
      "text/html": [
       "<pre>| 128              | 751.262ms    | 13.25%           |</pre>"
      ],
      "text/plain": [
       "| 128              | 751.262ms    | 13.25%           |"
      ]
     },
     "metadata": {},
     "output_type": "display_data"
    },
    {
     "data": {
      "text/html": [
       "<pre>| 192              | 917.468ms    | 20%              |</pre>"
      ],
      "text/plain": [
       "| 192              | 917.468ms    | 20%              |"
      ]
     },
     "metadata": {},
     "output_type": "display_data"
    },
    {
     "data": {
      "text/html": [
       "<pre>| 256              | 1.08s        | 26.5%            |</pre>"
      ],
      "text/plain": [
       "| 256              | 1.08s        | 26.5%            |"
      ]
     },
     "metadata": {},
     "output_type": "display_data"
    },
    {
     "data": {
      "text/html": [
       "<pre>| 320              | 1.25s        | 33.25%           |</pre>"
      ],
      "text/plain": [
       "| 320              | 1.25s        | 33.25%           |"
      ]
     },
     "metadata": {},
     "output_type": "display_data"
    },
    {
     "data": {
      "text/html": [
       "<pre>| 640              | 2.08s        | 66.5%            |</pre>"
      ],
      "text/plain": [
       "| 640              | 2.08s        | 66.5%            |"
      ]
     },
     "metadata": {},
     "output_type": "display_data"
    },
    {
     "data": {
      "text/html": [
       "<pre>| 952              | 2.92s        | 100%             |</pre>"
      ],
      "text/plain": [
       "| 952              | 2.92s        | 100%             |"
      ]
     },
     "metadata": {},
     "output_type": "display_data"
    },
    {
     "data": {
      "text/html": [
       "<pre>+------------------+--------------+------------------+</pre>"
      ],
      "text/plain": [
       "+------------------+--------------+------------------+"
      ]
     },
     "metadata": {},
     "output_type": "display_data"
    },
    {
     "name": "stdout",
     "output_type": "stream",
     "text": [
      "Accuracy:  0.6491596638655462\n",
      "Precision:  0.6482360441779452\n",
      "Recall:  0.6461326530612246\n",
      "Confusion Matrix:  +--------------+-----------------+-------+\n",
      "| target_label | predicted_label | count |\n",
      "+--------------+-----------------+-------+\n",
      "|   hot dog    |      salad      |   3   |\n",
      "|    salad     |      candy      |   1   |\n",
      "|     cake     |    ice cream    |   2   |\n",
      "|  pineapple   |      carrot     |   1   |\n",
      "|    apple     |      grape      |   1   |\n",
      "|  ice cream   |    ice cream    |   23  |\n",
      "|     cake     |      waffle     |   1   |\n",
      "|  strawberry  |       cake      |   2   |\n",
      "|    salad     |    watermelon   |   1   |\n",
      "|  strawberry  |      salad      |   1   |\n",
      "+--------------+-----------------+-------+\n",
      "[209 rows x 3 columns]\n",
      "Note: Only the head of the SFrame is printed.\n",
      "You can use print_rows(num_rows=m, num_columns=n) to print more rows and columns.\n"
     ]
    }
   ],
   "source": [
    "metrics = model.evaluate(test_data)\n",
    "print(\"Accuracy: \", metrics[\"accuracy\"])\n",
    "print(\"Precision: \", metrics[\"precision\"])\n",
    "print(\"Recall: \", metrics[\"recall\"])\n",
    "print(\"Confusion Matrix: \", metrics[\"confusion_matrix\"])"
   ]
  },
  {
   "cell_type": "code",
   "execution_count": 9,
   "metadata": {},
   "outputs": [],
   "source": [
    "#sorting the labels alphanumerically\n",
    "labels = test_data[\"label\"].unique().sort()"
   ]
  },
  {
   "cell_type": "code",
   "execution_count": 12,
   "metadata": {},
   "outputs": [],
   "source": [
    "#creating the functions to get better visualization of Confusion using Heatmap.\n",
    "\n",
    "#function to compute the confusion matrix\n",
    "\n",
    "def compute_confusion_matrix(metrics, labels):\n",
    "    number_of_label = len(labels)\n",
    "    labels_to_index = {l:i for i,l in enumerate(labels)}\n",
    "    \n",
    "    confusion_matrix = np.zeros((number_of_label, number_of_label), dtype=np.int)\n",
    "    for row in metrics[\"confusion_matrix\"]:\n",
    "        true_label = labels_to_index[row[\"target_label\"]]\n",
    "        predicted_label = labels_to_index[row[\"predicted_label\"]]\n",
    "        confusion_matrix[true_label, predicted_label] = row[\"count\"]\n",
    "    return confusion_matrix\n",
    "\n",
    "#function to plot the computed confusion matrix to heatmap\n",
    "\n",
    "def plot_confusion_matrix(conf, labels, figsize=(8,8)):\n",
    "    fig = plt.figure(figsize=figsize)\n",
    "    \n",
    "    heatmap = sns.heatmap(conf, annot=True, fmt=\"d\")\n",
    "    heatmap.xaxis.set_ticklabels(labels, rotation=45, ha=\"right\", fontsize=12)\n",
    "    heatmap.yaxis.set_ticklabels(labels, rotation=0, ha=\"right\", fontsize=12)\n",
    "    \n",
    "    plt.xlabel('Predicted Labels', fontsize=12)\n",
    "    plt.ylabel(\"Predicted Labels\", fontsize=12)\n",
    "    plt.show()"
   ]
  },
  {
   "cell_type": "code",
   "execution_count": 16,
   "metadata": {},
   "outputs": [
    {
     "data": {
      "image/png": "[encoded data removed]",
      "text/plain": [
       "<Figure size 720x576 with 2 Axes>"
      ]
     },
     "metadata": {
      "needs_background": "light"
     },
     "output_type": "display_data"
    }
   ],
   "source": [
    "#now passing the parameters for confusion matrix\n",
    "conf = compute_confusion_matrix(metrics, labels)\n",
    "plot_confusion_matrix(conf, labels, figsize=(10,8))"
   ]
  },
  {
   "cell_type": "code",
   "execution_count": null,
   "metadata": {},
   "outputs": [],
   "source": []
  }
 ],
 "metadata": {
  "kernelspec": {
   "display_name": "Python 3",
   "language": "python",
   "name": "python3"
  },
  "language_info": {
   "codemirror_mode": {
    "name": "ipython",
    "version": 3
   },
   "file_extension": ".py",
   "mimetype": "text/x-python",
   "name": "python",
   "nbconvert_exporter": "python",
   "pygments_lexer": "ipython3",
   "version": "3.6.9"
  }
 },
 "nbformat": 4,
 "nbformat_minor": 2
}
